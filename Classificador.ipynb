{
 "cells": [
  {
   "cell_type": "markdown",
   "metadata": {},
   "source": [
    "# Classificador"
   ]
  },
  {
   "cell_type": "markdown",
   "metadata": {},
   "source": [
    "**Dupla:** **Thalia Loiola | Laís Nascimento**   \n",
    "   \n",
    "**Turma: B**"
   ]
  },
  {
   "cell_type": "markdown",
   "metadata": {},
   "source": [
    "**Introdução**"
   ]
  },
  {
   "cell_type": "markdown",
   "metadata": {},
   "source": [
    "Para a realização do projeto, foi escolhido pela dupla como tema a ser analisado a marca chinesa Xiaomi, que está ganhando espaço no mercado, atualmente. Com base nos mais de 500 tweets colhidos do Twitter, esses tweets foram divididos em grupos de pessoas que são a favor dos aparelhos da Xiaomi e pessoas que são contra essa tecnologia. Nesse contexto, foi estabelecido o valor 0 para o primeiro grupo e 1 para o segundo, de forma que fossem classificados 330 tweets para treinamento do programa e 200 para teste de veracidade e eficiência do programa desenvolvido. \n",
    "\n",
    "Vale pontuar que a dupla utilizou-se de artificios matemáticos de probabilidade - o método de Naive Bayes - para maior precisão do programa."
   ]
  },
  {
   "cell_type": "markdown",
   "metadata": {},
   "source": [
    "**Método utilizado para análise dos tweets**"
   ]
  },
  {
   "cell_type": "markdown",
   "metadata": {},
   "source": [
    "Foram considerados os tweets a favor todos as aqueles que passavam uma ideia de que o autor da frase estava satisfeito com o produto ou expressava desejo em tê-lo. Além disso, as propagandas referentes à marca da Xiaomi foram consideradas dentro do grupo de tweets a favor.\n",
    "\n",
    "Todos aqueles que não se encaixavam nas características citadas acima foram classificados dentro do grupo de tweets não favoráveis à marca."
   ]
  },
  {
   "cell_type": "markdown",
   "metadata": {},
   "source": [
    "**Limpeza dos dados**"
   ]
  },
  {
   "cell_type": "markdown",
   "metadata": {},
   "source": [
    "Bibliotecas necessárias para o projeto:"
   ]
  },
  {
   "cell_type": "code",
   "execution_count": 1,
   "metadata": {},
   "outputs": [],
   "source": [
    "import pandas as pd\n",
    "import numpy as np\n",
    "import re\n",
    "from IPython.display import display\n",
    "pd.options.display.max_rows = 13"
   ]
  },
  {
   "cell_type": "markdown",
   "metadata": {},
   "source": [
    "Limpeza simples:"
   ]
  },
  {
   "cell_type": "code",
   "execution_count": 2,
   "metadata": {},
   "outputs": [],
   "source": [
    "import re \n",
    "\n",
    "def cleanup(text):\n",
    "    import string\n",
    "    punctuation = '[\\/!-.:?;]' # Note que os sinais [] são delimitadores de um conjunto.\n",
    "    pattern = re.compile(punctuation)\n",
    "    text_subbed = re.sub(pattern, ' ', text)\n",
    "    return text_subbed"
   ]
  },
  {
   "cell_type": "markdown",
   "metadata": {},
   "source": [
    "**1. Análise dos tweets marca Xiaomi**\n",
    "\n",
    "A análise foi baseada na classificação dos tweets, de forma binária, sendo favoráveis a marca (0), ou contra a marca (1)"
   ]
  },
  {
   "cell_type": "code",
   "execution_count": 3,
   "metadata": {},
   "outputs": [],
   "source": [
    "tweets = pd.read_excel('xiaomi_1.xlsx')"
   ]
  },
  {
   "cell_type": "code",
   "execution_count": 4,
   "metadata": {
    "scrolled": true
   },
   "outputs": [],
   "source": [
    "#apagar tweets que foram repetidos ('RTs')\n",
    "n_repete_tt = tweets.drop_duplicates()\n",
    "n_repete_tt;"
   ]
  },
  {
   "cell_type": "code",
   "execution_count": 5,
   "metadata": {},
   "outputs": [],
   "source": [
    "dict_n_rep_tt= n_repete_tt.to_dict('list')"
   ]
  },
  {
   "cell_type": "code",
   "execution_count": 6,
   "metadata": {},
   "outputs": [],
   "source": [
    "dict_n_rep_tt;"
   ]
  },
  {
   "cell_type": "code",
   "execution_count": 7,
   "metadata": {},
   "outputs": [],
   "source": [
    "lista_tt = dict_n_rep_tt['Treinamento']\n",
    "lista_tt;"
   ]
  },
  {
   "cell_type": "code",
   "execution_count": 8,
   "metadata": {},
   "outputs": [],
   "source": [
    "lista_classificacao = dict_n_rep_tt['Classificação']"
   ]
  },
  {
   "cell_type": "code",
   "execution_count": 9,
   "metadata": {},
   "outputs": [],
   "source": [
    "i=0\n",
    "lista_sem_caracteres = []\n",
    "for i in range(len(lista_tt)):\n",
    "    novo_tt = cleanup(lista_tt[i])\n",
    "    lista_sem_caracteres.append(novo_tt.lower())\n",
    "    i += 1"
   ]
  },
  {
   "cell_type": "code",
   "execution_count": 10,
   "metadata": {},
   "outputs": [],
   "source": [
    "dict_df = {}\n",
    "    \n",
    "dict_df['Treinamento'] = lista_sem_caracteres\n",
    "dict_df['Classificação'] = lista_classificacao"
   ]
  },
  {
   "cell_type": "markdown",
   "metadata": {},
   "source": [
    "Após a limpeza dos dados, teremos o um novo dataframe para os tweets de treinamento:"
   ]
  },
  {
   "cell_type": "code",
   "execution_count": 11,
   "metadata": {},
   "outputs": [
    {
     "data": {
      "text/html": [
       "<div>\n",
       "<style scoped>\n",
       "    .dataframe tbody tr th:only-of-type {\n",
       "        vertical-align: middle;\n",
       "    }\n",
       "\n",
       "    .dataframe tbody tr th {\n",
       "        vertical-align: top;\n",
       "    }\n",
       "\n",
       "    .dataframe thead th {\n",
       "        text-align: right;\n",
       "    }\n",
       "</style>\n",
       "<table border=\"1\" class=\"dataframe\">\n",
       "  <thead>\n",
       "    <tr style=\"text-align: right;\">\n",
       "      <th></th>\n",
       "      <th>Treinamento</th>\n",
       "      <th>Classificação</th>\n",
       "    </tr>\n",
       "  </thead>\n",
       "  <tbody>\n",
       "    <tr>\n",
       "      <th>0</th>\n",
       "      <td>@marcusc13 @xiaomibrasil @apple @motorolabr @s...</td>\n",
       "      <td>0</td>\n",
       "    </tr>\n",
       "    <tr>\n",
       "      <th>1</th>\n",
       "      <td>esse cel xiaomi é excelente  😁</td>\n",
       "      <td>0</td>\n",
       "    </tr>\n",
       "    <tr>\n",
       "      <th>2</th>\n",
       "      <td>@hugorambo18 não temos vagas  abandonou a famí...</td>\n",
       "      <td>1</td>\n",
       "    </tr>\n",
       "    <tr>\n",
       "      <th>3</th>\n",
       "      <td>@alysonhoffmann comprei 2 fones da xiaomi no d...</td>\n",
       "      <td>0</td>\n",
       "    </tr>\n",
       "    <tr>\n",
       "      <th>4</th>\n",
       "      <td>@itsramss aqui e team xiaomi ramenex junte se ...</td>\n",
       "      <td>0</td>\n",
       "    </tr>\n",
       "    <tr>\n",
       "      <th>5</th>\n",
       "      <td>xiaomi eh a o anti cristo não caiam nessa http...</td>\n",
       "      <td>1</td>\n",
       "    </tr>\n",
       "    <tr>\n",
       "      <th>...</th>\n",
       "      <td>...</td>\n",
       "      <td>...</td>\n",
       "    </tr>\n",
       "    <tr>\n",
       "      <th>321</th>\n",
       "      <td>fui pesquisar sobre a xiaomi e gostei sla ache...</td>\n",
       "      <td>0</td>\n",
       "    </tr>\n",
       "    <tr>\n",
       "      <th>322</th>\n",
       "      <td>isso demonstra que muitos equipamentos são de ...</td>\n",
       "      <td>0</td>\n",
       "    </tr>\n",
       "    <tr>\n",
       "      <th>323</th>\n",
       "      <td>@mumudesp se quiser eu pego meus slides e te a...</td>\n",
       "      <td>0</td>\n",
       "    </tr>\n",
       "    <tr>\n",
       "      <th>324</th>\n",
       "      <td>@oliviaa_gr câmera do iphone é absurda  eu ten...</td>\n",
       "      <td>0</td>\n",
       "    </tr>\n",
       "    <tr>\n",
       "      <th>325</th>\n",
       "      <td>entrar na loja e ver o xiaomi dos meus sonhos ...</td>\n",
       "      <td>0</td>\n",
       "    </tr>\n",
       "    <tr>\n",
       "      <th>326</th>\n",
       "      <td>é meu momento de brilhar com meu xiaomi ligand...</td>\n",
       "      <td>0</td>\n",
       "    </tr>\n",
       "  </tbody>\n",
       "</table>\n",
       "<p>327 rows × 2 columns</p>\n",
       "</div>"
      ],
      "text/plain": [
       "                                           Treinamento  Classificação\n",
       "0    @marcusc13 @xiaomibrasil @apple @motorolabr @s...              0\n",
       "1                       esse cel xiaomi é excelente  😁              0\n",
       "2    @hugorambo18 não temos vagas  abandonou a famí...              1\n",
       "3    @alysonhoffmann comprei 2 fones da xiaomi no d...              0\n",
       "4    @itsramss aqui e team xiaomi ramenex junte se ...              0\n",
       "5    xiaomi eh a o anti cristo não caiam nessa http...              1\n",
       "..                                                 ...            ...\n",
       "321  fui pesquisar sobre a xiaomi e gostei sla ache...              0\n",
       "322  isso demonstra que muitos equipamentos são de ...              0\n",
       "323  @mumudesp se quiser eu pego meus slides e te a...              0\n",
       "324  @oliviaa_gr câmera do iphone é absurda  eu ten...              0\n",
       "325  entrar na loja e ver o xiaomi dos meus sonhos ...              0\n",
       "326  é meu momento de brilhar com meu xiaomi ligand...              0\n",
       "\n",
       "[327 rows x 2 columns]"
      ]
     },
     "execution_count": 11,
     "metadata": {},
     "output_type": "execute_result"
    }
   ],
   "source": [
    "#novo banco de dados apos limpeza simples dos tweets\n",
    "novo_tweets = pd.DataFrame(data=dict_df)\n",
    "novo_tweets"
   ]
  },
  {
   "cell_type": "code",
   "execution_count": 12,
   "metadata": {},
   "outputs": [],
   "source": [
    "lista_sem_caracteres = dict_n_rep_tt['Treinamento']"
   ]
  },
  {
   "cell_type": "markdown",
   "metadata": {},
   "source": [
    "**2. Separação dos grupos a favor e contra a marca Xiaomi:**"
   ]
  },
  {
   "cell_type": "markdown",
   "metadata": {},
   "source": [
    "2.1. Tweest a favor da marca:"
   ]
  },
  {
   "cell_type": "code",
   "execution_count": 13,
   "metadata": {},
   "outputs": [],
   "source": [
    "afavor_tweets= novo_tweets.loc[(novo_tweets.Classificação==0)]"
   ]
  },
  {
   "cell_type": "code",
   "execution_count": 14,
   "metadata": {
    "scrolled": true
   },
   "outputs": [
    {
     "data": {
      "text/html": [
       "<div>\n",
       "<style scoped>\n",
       "    .dataframe tbody tr th:only-of-type {\n",
       "        vertical-align: middle;\n",
       "    }\n",
       "\n",
       "    .dataframe tbody tr th {\n",
       "        vertical-align: top;\n",
       "    }\n",
       "\n",
       "    .dataframe thead th {\n",
       "        text-align: right;\n",
       "    }\n",
       "</style>\n",
       "<table border=\"1\" class=\"dataframe\">\n",
       "  <thead>\n",
       "    <tr style=\"text-align: right;\">\n",
       "      <th></th>\n",
       "      <th>Treinamento</th>\n",
       "      <th>Classificação</th>\n",
       "    </tr>\n",
       "  </thead>\n",
       "  <tbody>\n",
       "    <tr>\n",
       "      <th>0</th>\n",
       "      <td>@marcusc13 @xiaomibrasil @apple @motorolabr @s...</td>\n",
       "      <td>0</td>\n",
       "    </tr>\n",
       "    <tr>\n",
       "      <th>1</th>\n",
       "      <td>esse cel xiaomi é excelente  😁</td>\n",
       "      <td>0</td>\n",
       "    </tr>\n",
       "    <tr>\n",
       "      <th>3</th>\n",
       "      <td>@alysonhoffmann comprei 2 fones da xiaomi no d...</td>\n",
       "      <td>0</td>\n",
       "    </tr>\n",
       "    <tr>\n",
       "      <th>4</th>\n",
       "      <td>@itsramss aqui e team xiaomi ramenex junte se ...</td>\n",
       "      <td>0</td>\n",
       "    </tr>\n",
       "    <tr>\n",
       "      <th>6</th>\n",
       "      <td>mano  nem tô acreditando que depois de indicar...</td>\n",
       "      <td>0</td>\n",
       "    </tr>\n",
       "    <tr>\n",
       "      <th>7</th>\n",
       "      <td>@grrvide1 me sinto uma testemunha do xiaomi ok...</td>\n",
       "      <td>0</td>\n",
       "    </tr>\n",
       "    <tr>\n",
       "      <th>...</th>\n",
       "      <td>...</td>\n",
       "      <td>...</td>\n",
       "    </tr>\n",
       "    <tr>\n",
       "      <th>321</th>\n",
       "      <td>fui pesquisar sobre a xiaomi e gostei sla ache...</td>\n",
       "      <td>0</td>\n",
       "    </tr>\n",
       "    <tr>\n",
       "      <th>322</th>\n",
       "      <td>isso demonstra que muitos equipamentos são de ...</td>\n",
       "      <td>0</td>\n",
       "    </tr>\n",
       "    <tr>\n",
       "      <th>323</th>\n",
       "      <td>@mumudesp se quiser eu pego meus slides e te a...</td>\n",
       "      <td>0</td>\n",
       "    </tr>\n",
       "    <tr>\n",
       "      <th>324</th>\n",
       "      <td>@oliviaa_gr câmera do iphone é absurda  eu ten...</td>\n",
       "      <td>0</td>\n",
       "    </tr>\n",
       "    <tr>\n",
       "      <th>325</th>\n",
       "      <td>entrar na loja e ver o xiaomi dos meus sonhos ...</td>\n",
       "      <td>0</td>\n",
       "    </tr>\n",
       "    <tr>\n",
       "      <th>326</th>\n",
       "      <td>é meu momento de brilhar com meu xiaomi ligand...</td>\n",
       "      <td>0</td>\n",
       "    </tr>\n",
       "  </tbody>\n",
       "</table>\n",
       "<p>242 rows × 2 columns</p>\n",
       "</div>"
      ],
      "text/plain": [
       "                                           Treinamento  Classificação\n",
       "0    @marcusc13 @xiaomibrasil @apple @motorolabr @s...              0\n",
       "1                       esse cel xiaomi é excelente  😁              0\n",
       "3    @alysonhoffmann comprei 2 fones da xiaomi no d...              0\n",
       "4    @itsramss aqui e team xiaomi ramenex junte se ...              0\n",
       "6    mano  nem tô acreditando que depois de indicar...              0\n",
       "7    @grrvide1 me sinto uma testemunha do xiaomi ok...              0\n",
       "..                                                 ...            ...\n",
       "321  fui pesquisar sobre a xiaomi e gostei sla ache...              0\n",
       "322  isso demonstra que muitos equipamentos são de ...              0\n",
       "323  @mumudesp se quiser eu pego meus slides e te a...              0\n",
       "324  @oliviaa_gr câmera do iphone é absurda  eu ten...              0\n",
       "325  entrar na loja e ver o xiaomi dos meus sonhos ...              0\n",
       "326  é meu momento de brilhar com meu xiaomi ligand...              0\n",
       "\n",
       "[242 rows x 2 columns]"
      ]
     },
     "execution_count": 14,
     "metadata": {},
     "output_type": "execute_result"
    }
   ],
   "source": [
    "afavor_tweets"
   ]
  },
  {
   "cell_type": "markdown",
   "metadata": {},
   "source": [
    "2.2 Tweets contra a marca: "
   ]
  },
  {
   "cell_type": "code",
   "execution_count": 15,
   "metadata": {},
   "outputs": [],
   "source": [
    "n_afavor_tweets= novo_tweets.loc[(novo_tweets.Classificação==1)]"
   ]
  },
  {
   "cell_type": "code",
   "execution_count": 16,
   "metadata": {
    "scrolled": true
   },
   "outputs": [
    {
     "data": {
      "text/html": [
       "<div>\n",
       "<style scoped>\n",
       "    .dataframe tbody tr th:only-of-type {\n",
       "        vertical-align: middle;\n",
       "    }\n",
       "\n",
       "    .dataframe tbody tr th {\n",
       "        vertical-align: top;\n",
       "    }\n",
       "\n",
       "    .dataframe thead th {\n",
       "        text-align: right;\n",
       "    }\n",
       "</style>\n",
       "<table border=\"1\" class=\"dataframe\">\n",
       "  <thead>\n",
       "    <tr style=\"text-align: right;\">\n",
       "      <th></th>\n",
       "      <th>Treinamento</th>\n",
       "      <th>Classificação</th>\n",
       "    </tr>\n",
       "  </thead>\n",
       "  <tbody>\n",
       "    <tr>\n",
       "      <th>2</th>\n",
       "      <td>@hugorambo18 não temos vagas  abandonou a famí...</td>\n",
       "      <td>1</td>\n",
       "    </tr>\n",
       "    <tr>\n",
       "      <th>5</th>\n",
       "      <td>xiaomi eh a o anti cristo não caiam nessa http...</td>\n",
       "      <td>1</td>\n",
       "    </tr>\n",
       "    <tr>\n",
       "      <th>12</th>\n",
       "      <td>rt @treviagabriel  amiga n beije este homem el...</td>\n",
       "      <td>1</td>\n",
       "    </tr>\n",
       "    <tr>\n",
       "      <th>16</th>\n",
       "      <td>crossfiteiro é mais chato que fã da xiaomi</td>\n",
       "      <td>1</td>\n",
       "    </tr>\n",
       "    <tr>\n",
       "      <th>17</th>\n",
       "      <td>vou comprar meu xiaomi se eu tiver chorando é ...</td>\n",
       "      <td>1</td>\n",
       "    </tr>\n",
       "    <tr>\n",
       "      <th>19</th>\n",
       "      <td>será que esses xiaomi são bons mesmo</td>\n",
       "      <td>1</td>\n",
       "    </tr>\n",
       "    <tr>\n",
       "      <th>...</th>\n",
       "      <td>...</td>\n",
       "      <td>...</td>\n",
       "    </tr>\n",
       "    <tr>\n",
       "      <th>291</th>\n",
       "      <td>@guidofraga @matosrs_ tem um vídeo do loop inf...</td>\n",
       "      <td>1</td>\n",
       "    </tr>\n",
       "    <tr>\n",
       "      <th>301</th>\n",
       "      <td>e um fone xiaomi tb pq esse inferno de celular...</td>\n",
       "      <td>1</td>\n",
       "    </tr>\n",
       "    <tr>\n",
       "      <th>303</th>\n",
       "      <td>xiaomi lovers é quase uma religião ficam tenta...</td>\n",
       "      <td>1</td>\n",
       "    </tr>\n",
       "    <tr>\n",
       "      <th>308</th>\n",
       "      <td>@kkeaeze @jeancsilveir opa  já apareceu um xia...</td>\n",
       "      <td>1</td>\n",
       "    </tr>\n",
       "    <tr>\n",
       "      <th>310</th>\n",
       "      <td>t t amo quando me identificam como cosplayer  ...</td>\n",
       "      <td>1</td>\n",
       "    </tr>\n",
       "    <tr>\n",
       "      <th>320</th>\n",
       "      <td>@hugodlima @xiaomibrasil @xiaomi 🙄🙄🙄🙄 iphone 5...</td>\n",
       "      <td>1</td>\n",
       "    </tr>\n",
       "  </tbody>\n",
       "</table>\n",
       "<p>85 rows × 2 columns</p>\n",
       "</div>"
      ],
      "text/plain": [
       "                                           Treinamento  Classificação\n",
       "2    @hugorambo18 não temos vagas  abandonou a famí...              1\n",
       "5    xiaomi eh a o anti cristo não caiam nessa http...              1\n",
       "12   rt @treviagabriel  amiga n beije este homem el...              1\n",
       "16          crossfiteiro é mais chato que fã da xiaomi              1\n",
       "17   vou comprar meu xiaomi se eu tiver chorando é ...              1\n",
       "19                será que esses xiaomi são bons mesmo              1\n",
       "..                                                 ...            ...\n",
       "291  @guidofraga @matosrs_ tem um vídeo do loop inf...              1\n",
       "301  e um fone xiaomi tb pq esse inferno de celular...              1\n",
       "303  xiaomi lovers é quase uma religião ficam tenta...              1\n",
       "308  @kkeaeze @jeancsilveir opa  já apareceu um xia...              1\n",
       "310  t t amo quando me identificam como cosplayer  ...              1\n",
       "320  @hugodlima @xiaomibrasil @xiaomi 🙄🙄🙄🙄 iphone 5...              1\n",
       "\n",
       "[85 rows x 2 columns]"
      ]
     },
     "execution_count": 16,
     "metadata": {},
     "output_type": "execute_result"
    }
   ],
   "source": [
    "n_afavor_tweets"
   ]
  },
  {
   "cell_type": "markdown",
   "metadata": {},
   "source": [
    "Se analisarmos qual a probabilidade de a opinião pública ser a favor ou contra a Xiaomi, dentre esse universo de 330 tweets que foram classificados, uma análise bem simples seria analisar quantas vezes o número 1 ocorre nesse universo e quantas vezes o 0 ocorre.\n",
    "\n",
    "Em vista disso, teremos:"
   ]
  },
  {
   "cell_type": "code",
   "execution_count": 17,
   "metadata": {},
   "outputs": [],
   "source": [
    "# Analise bem simples dos tweets\n",
    "P_1 = n_afavor_tweets['Treinamento'].count()/ (n_afavor_tweets['Treinamento'].count() + afavor_tweets['Treinamento'].count())\n",
    "P_0 = 1-P_1"
   ]
  },
  {
   "cell_type": "code",
   "execution_count": 18,
   "metadata": {},
   "outputs": [
    {
     "data": {
      "text/plain": [
       "0.7400611620795108"
      ]
     },
     "execution_count": 18,
     "metadata": {},
     "output_type": "execute_result"
    }
   ],
   "source": [
    "P_0"
   ]
  },
  {
   "cell_type": "markdown",
   "metadata": {},
   "source": [
    "Probabilidade de gostarem do produto Xiaomi\n",
    "P(0)= 0,74"
   ]
  },
  {
   "cell_type": "code",
   "execution_count": 19,
   "metadata": {},
   "outputs": [
    {
     "data": {
      "text/plain": [
       "0.2599388379204893"
      ]
     },
     "execution_count": 19,
     "metadata": {},
     "output_type": "execute_result"
    }
   ],
   "source": [
    "P_1"
   ]
  },
  {
   "cell_type": "markdown",
   "metadata": {},
   "source": [
    "Probabilidade de não gostarem do produto Xiaomi\n",
    "P(1)= 0,26"
   ]
  },
  {
   "cell_type": "markdown",
   "metadata": {},
   "source": [
    "**3. Frequências relativas dentro de cada grupo**"
   ]
  },
  {
   "cell_type": "markdown",
   "metadata": {},
   "source": [
    "3.1. Grupo 0 - Opinião a favor dos produtos da Xiaomi:"
   ]
  },
  {
   "cell_type": "code",
   "execution_count": 20,
   "metadata": {},
   "outputs": [],
   "source": [
    "# Analise de quem é a favor da Xiaomi\n",
    "txt_afavor=''\n",
    "for t in afavor_tweets['Treinamento']:\n",
    "    t=str(t)\n",
    "    txt_afavor+=t"
   ]
  },
  {
   "cell_type": "code",
   "execution_count": 21,
   "metadata": {},
   "outputs": [],
   "source": [
    "afavor=pd.Series(txt_afavor.split())"
   ]
  },
  {
   "cell_type": "code",
   "execution_count": 22,
   "metadata": {},
   "outputs": [
    {
     "data": {
      "text/plain": [
       "0           @marcusc13\n",
       "1        @xiaomibrasil\n",
       "2               @apple\n",
       "3          @motorolabr\n",
       "4       @samsungbrasil\n",
       "5                   na\n",
       "             ...      \n",
       "4167      condicionado\n",
       "4168                da\n",
       "4169              sala\n",
       "4170               com\n",
       "4171               ele\n",
       "4172               🤩🤩😂\n",
       "Length: 4173, dtype: object"
      ]
     },
     "execution_count": 22,
     "metadata": {},
     "output_type": "execute_result"
    }
   ],
   "source": [
    "afavor"
   ]
  },
  {
   "cell_type": "code",
   "execution_count": 23,
   "metadata": {},
   "outputs": [
    {
     "data": {
      "text/plain": [
       "xiaomi                    201\n",
       "o                          96\n",
       "que                        87\n",
       "de                         87\n",
       "e                          82\n",
       "um                         77\n",
       "                         ... \n",
       "47mm                        1\n",
       "125                         1\n",
       "tenham                      1\n",
       "optar                       1\n",
       "hahahaha@luitticaminha      1\n",
       "justificando                1\n",
       "Length: 1462, dtype: int64"
      ]
     },
     "execution_count": 23,
     "metadata": {},
     "output_type": "execute_result"
    }
   ],
   "source": [
    "#frequencias absolutas\n",
    "tabela_afavor = afavor.value_counts()\n",
    "tabela_afavor"
   ]
  },
  {
   "cell_type": "code",
   "execution_count": 24,
   "metadata": {},
   "outputs": [],
   "source": [
    "#palavras no grupo que são a favor sem que haja repetição\n",
    "lista_afavor = []\n",
    "for palavra in tabela_afavor.index:\n",
    "    lista_afavor.append(palavra)"
   ]
  },
  {
   "cell_type": "code",
   "execution_count": 25,
   "metadata": {},
   "outputs": [],
   "source": [
    "#frequencias relativas\n",
    "tabela_afavor_relativa = afavor.value_counts(True)"
   ]
  },
  {
   "cell_type": "code",
   "execution_count": 26,
   "metadata": {
    "scrolled": true
   },
   "outputs": [
    {
     "data": {
      "text/plain": [
       "xiaomi                    0.048167\n",
       "o                         0.023005\n",
       "que                       0.020848\n",
       "de                        0.020848\n",
       "e                         0.019650\n",
       "um                        0.018452\n",
       "                            ...   \n",
       "47mm                      0.000240\n",
       "125                       0.000240\n",
       "tenham                    0.000240\n",
       "optar                     0.000240\n",
       "hahahaha@luitticaminha    0.000240\n",
       "justificando              0.000240\n",
       "Length: 1462, dtype: float64"
      ]
     },
     "execution_count": 26,
     "metadata": {},
     "output_type": "execute_result"
    }
   ],
   "source": [
    "tabela_afavor_relativa"
   ]
  },
  {
   "cell_type": "code",
   "execution_count": 27,
   "metadata": {},
   "outputs": [],
   "source": [
    "freq_afavor_min = tabela_afavor_relativa.min()"
   ]
  },
  {
   "cell_type": "markdown",
   "metadata": {},
   "source": [
    "3.2. Grupo 1 - Opinião contra os produtos da Xiaomi:"
   ]
  },
  {
   "cell_type": "code",
   "execution_count": 28,
   "metadata": {},
   "outputs": [],
   "source": [
    "# Analise de quem é contra a Xiaomi\n",
    "txt_contra=''\n",
    "for e in n_afavor_tweets['Treinamento']:\n",
    "    e=str(e)\n",
    "    txt_contra+=e"
   ]
  },
  {
   "cell_type": "code",
   "execution_count": 29,
   "metadata": {},
   "outputs": [],
   "source": [
    "contra=pd.Series(txt_contra.split())"
   ]
  },
  {
   "cell_type": "code",
   "execution_count": 30,
   "metadata": {},
   "outputs": [
    {
     "data": {
      "text/plain": [
       "xiaomi              71\n",
       "de                  25\n",
       "a                   24\n",
       "que                 23\n",
       "um                  22\n",
       "o                   19\n",
       "                    ..\n",
       "zttwczltcucâmera     1\n",
       "conversei            1\n",
       "vendo                1\n",
       "dá                   1\n",
       "popopo               1\n",
       "conecta              1\n",
       "Length: 531, dtype: int64"
      ]
     },
     "execution_count": 30,
     "metadata": {},
     "output_type": "execute_result"
    }
   ],
   "source": [
    "#frequencias absolutas\n",
    "tabela_n_afavor = contra.value_counts()\n",
    "tabela_n_afavor"
   ]
  },
  {
   "cell_type": "code",
   "execution_count": 31,
   "metadata": {},
   "outputs": [],
   "source": [
    "#palavras no grupo que são contra sem que haja repetição\n",
    "lista_contra = []\n",
    "for palavra in tabela_n_afavor.index:\n",
    "    lista_contra.append(palavra)"
   ]
  },
  {
   "cell_type": "code",
   "execution_count": 32,
   "metadata": {},
   "outputs": [],
   "source": [
    "#frequencias relativas\n",
    "tabela_contra_relativa = contra.value_counts(True)"
   ]
  },
  {
   "cell_type": "code",
   "execution_count": 33,
   "metadata": {
    "scrolled": false
   },
   "outputs": [
    {
     "data": {
      "text/plain": [
       "xiaomi              0.067943\n",
       "de                  0.023923\n",
       "a                   0.022967\n",
       "que                 0.022010\n",
       "um                  0.021053\n",
       "o                   0.018182\n",
       "                      ...   \n",
       "zttwczltcucâmera    0.000957\n",
       "conversei           0.000957\n",
       "vendo               0.000957\n",
       "dá                  0.000957\n",
       "popopo              0.000957\n",
       "conecta             0.000957\n",
       "Length: 531, dtype: float64"
      ]
     },
     "execution_count": 33,
     "metadata": {},
     "output_type": "execute_result"
    }
   ],
   "source": [
    "tabela_contra_relativa"
   ]
  },
  {
   "cell_type": "code",
   "execution_count": 34,
   "metadata": {},
   "outputs": [],
   "source": [
    "freq_contra_min = tabela_contra_relativa.min()"
   ]
  },
  {
   "cell_type": "code",
   "execution_count": 35,
   "metadata": {},
   "outputs": [],
   "source": [
    "# Assuma que a soma das palavras do texto a favor e do texto contra formam o meu conjunto universo para analise \n",
    "todas_palavras = txt_afavor + txt_contra\n",
    "todas_palavras;"
   ]
  },
  {
   "cell_type": "code",
   "execution_count": 36,
   "metadata": {},
   "outputs": [],
   "source": [
    "palavras = pd.Series(todas_palavras.split())"
   ]
  },
  {
   "cell_type": "code",
   "execution_count": 37,
   "metadata": {},
   "outputs": [],
   "source": [
    "# lista com todas as palavras contidas no universo que estamos analisando\n",
    "lista_palavras_treinamento = []\n",
    "for palavra in palavras:\n",
    "    lista_palavras_treinamento.append(palavra)"
   ]
  },
  {
   "cell_type": "code",
   "execution_count": 38,
   "metadata": {},
   "outputs": [
    {
     "data": {
      "text/plain": [
       "xiaomi         0.052137\n",
       "o              0.022043\n",
       "de             0.021468\n",
       "que            0.021085\n",
       "e              0.019360\n",
       "um             0.018976\n",
       "                 ...   \n",
       "ar             0.000192\n",
       "coitado        0.000192\n",
       "prova          0.000192\n",
       "serei          0.000192\n",
       "checkxiaomi    0.000192\n",
       "7hrs           0.000192\n",
       "Length: 1769, dtype: float64"
      ]
     },
     "execution_count": 38,
     "metadata": {},
     "output_type": "execute_result"
    }
   ],
   "source": [
    "# Probabilidade de cada palavra aparecer no espaço amostral (contra + a favor) que estamos trabalhando\n",
    "tabela_palavras_relativa = palavras.value_counts(True)\n",
    "tabela_palavras_relativa"
   ]
  },
  {
   "cell_type": "code",
   "execution_count": 39,
   "metadata": {},
   "outputs": [
    {
     "data": {
      "text/plain": [
       "5217"
      ]
     },
     "execution_count": 39,
     "metadata": {},
     "output_type": "execute_result"
    }
   ],
   "source": [
    "#calculo do numero de palavras que existem em ambas as categorias de tweets\n",
    "universo = palavras.count()\n",
    "universo"
   ]
  },
  {
   "cell_type": "code",
   "execution_count": 40,
   "metadata": {},
   "outputs": [
    {
     "data": {
      "text/plain": [
       "0.2003066896683918"
      ]
     },
     "execution_count": 40,
     "metadata": {},
     "output_type": "execute_result"
    }
   ],
   "source": [
    "# Probabilidade de não gostar --> P(1)\n",
    "\n",
    "total_contra = tabela_n_afavor.sum()\n",
    "P_1 = total_contra/universo\n",
    "P_1"
   ]
  },
  {
   "cell_type": "code",
   "execution_count": 41,
   "metadata": {},
   "outputs": [
    {
     "data": {
      "text/plain": [
       "0.7998849913743531"
      ]
     },
     "execution_count": 41,
     "metadata": {},
     "output_type": "execute_result"
    }
   ],
   "source": [
    "# Probabilidade de gostar --> P(0)\n",
    "\n",
    "total_afavor = tabela_afavor.sum()\n",
    "P_0 = total_afavor/universo\n",
    "P_0"
   ]
  },
  {
   "cell_type": "markdown",
   "metadata": {},
   "source": [
    "**4. Fase de teste**"
   ]
  },
  {
   "cell_type": "code",
   "execution_count": 42,
   "metadata": {},
   "outputs": [],
   "source": [
    "testando = pd.read_excel('teste.xlsx')"
   ]
  },
  {
   "cell_type": "code",
   "execution_count": 43,
   "metadata": {},
   "outputs": [],
   "source": [
    "lista_teste=[]\n",
    "for t in testando['Teste']:\n",
    "    t_limpo = cleanup(t.lower())\n",
    "    lista_teste.append(t_limpo)\n",
    "    \n",
    "lista_palavras_teste = []\n",
    "for tweet in lista_teste:\n",
    "    lista_palavras_teste.append(tweet.split())"
   ]
  },
  {
   "cell_type": "code",
   "execution_count": 73,
   "metadata": {},
   "outputs": [],
   "source": [
    "teste_classificacao=[]\n",
    "\n",
    "i=0\n",
    "while i < len(lista_palavras_teste):\n",
    "    #pega cada lista da lista de teste e compara com a lista de treinamento (conjunto universo)\n",
    "    conjunto_teste = set(lista_palavras_teste[i])\n",
    "    conjunto_treinamento_afavor = set(lista_afavor)\n",
    "    conjunto_treinamento_contra = set(lista_contra)\n",
    "    \n",
    "    # queremos a interseção dos conjuntos. Ou seja, todas as palavras que aparecem em teste, devem aparecer no treinamento. \n",
    "    # Para as que não aparecerem, iremos fazer a suavização de Laplace\n",
    "    inter_buscada_afavor = list(conjunto_teste.intersection(conjunto_treinamento_afavor))\n",
    "    inter_buscada_contra = list(conjunto_teste.intersection(conjunto_treinamento_contra))\n",
    "     \n",
    "    #tudo oq tem nos tweets de teste e nao tem na interseção\n",
    "    diferenca_afavor = list(conjunto_teste.difference(set(inter_buscada_afavor)))\n",
    "    diferenca_contra = list(conjunto_teste.difference(set(inter_buscada_contra)))\n",
    "     \n",
    "    if len(diferenca_afavor)==0: #significa que todas as palavras de teste estão presentes no treinamento\n",
    "        P_tweet_gosta = tabela_afavor_relativa[lista_palavras_teste[i]].prod()\n",
    "\n",
    "    else:\n",
    "        prod_afavor = ((freq_afavor_min/2)**len(diferenca_afavor))\n",
    "        P_tweet_gosta = (tabela_afavor_relativa[inter_buscada_afavor].prod())*(prod_afavor)\n",
    "        \n",
    "    if len(diferenca_contra)==0:\n",
    "        P_tweet_ngosta = tabela_contra_relativa[lista_palavras_teste[i]].prod()\n",
    "    \n",
    "    else:\n",
    "        prod_contra = ((freq_contra_min/2)**len(diferenca_contra))\n",
    "        P_tweet_ngosta = (tabela_contra_relativa[inter_buscada_contra].prod())*(prod_contra)\n",
    "            \n",
    "    P_gosta_tweet = P_tweet_gosta*P_0\n",
    "    P_ngosta_tweet = P_tweet_ngosta*P_1 \n",
    "    \n",
    "    if P_gosta_tweet>P_ngosta_tweet:\n",
    "        teste_classificacao.append(0)\n",
    "    else: \n",
    "        teste_classificacao.append(1)\n",
    "        \n",
    "    i+=1\n",
    "            "
   ]
  },
  {
   "cell_type": "code",
   "execution_count": 74,
   "metadata": {},
   "outputs": [],
   "source": [
    "dict_teste = {}\n",
    "    \n",
    "dict_teste['Teste'] = lista_teste\n",
    "dict_teste['Classificação'] = teste_classificacao"
   ]
  },
  {
   "cell_type": "code",
   "execution_count": 75,
   "metadata": {
    "scrolled": true
   },
   "outputs": [
    {
     "data": {
      "text/html": [
       "<div>\n",
       "<style scoped>\n",
       "    .dataframe tbody tr th:only-of-type {\n",
       "        vertical-align: middle;\n",
       "    }\n",
       "\n",
       "    .dataframe tbody tr th {\n",
       "        vertical-align: top;\n",
       "    }\n",
       "\n",
       "    .dataframe thead th {\n",
       "        text-align: right;\n",
       "    }\n",
       "</style>\n",
       "<table border=\"1\" class=\"dataframe\">\n",
       "  <thead>\n",
       "    <tr style=\"text-align: right;\">\n",
       "      <th></th>\n",
       "      <th>Teste</th>\n",
       "      <th>Classificação</th>\n",
       "    </tr>\n",
       "  </thead>\n",
       "  <tbody>\n",
       "    <tr>\n",
       "      <th>0</th>\n",
       "      <td>xiaomi é o celular que emite mais radiação só ...</td>\n",
       "      <td>1</td>\n",
       "    </tr>\n",
       "    <tr>\n",
       "      <th>1</th>\n",
       "      <td>kkkkkkkkkkk os fanboys de xiaomi espumando no ...</td>\n",
       "      <td>1</td>\n",
       "    </tr>\n",
       "    <tr>\n",
       "      <th>2</th>\n",
       "      <td>dei um tombo no meu celular ontem na plataform...</td>\n",
       "      <td>1</td>\n",
       "    </tr>\n",
       "    <tr>\n",
       "      <th>3</th>\n",
       "      <td>@sabrina27114057 compra um xiaomi</td>\n",
       "      <td>1</td>\n",
       "    </tr>\n",
       "    <tr>\n",
       "      <th>4</th>\n",
       "      <td>@babiie_ @olhardigital acabei de pegar um xiao...</td>\n",
       "      <td>1</td>\n",
       "    </tr>\n",
       "    <tr>\n",
       "      <th>5</th>\n",
       "      <td>olhem lá se eu usasse a marca do meu telemóvel...</td>\n",
       "      <td>1</td>\n",
       "    </tr>\n",
       "    <tr>\n",
       "      <th>...</th>\n",
       "      <td>...</td>\n",
       "      <td>...</td>\n",
       "    </tr>\n",
       "    <tr>\n",
       "      <th>194</th>\n",
       "      <td>@xiaomi_br @brunnarangel foi indicada ao emmy ...</td>\n",
       "      <td>1</td>\n",
       "    </tr>\n",
       "    <tr>\n",
       "      <th>195</th>\n",
       "      <td>🍃🌧️ já é quase sexta feira    \\n\\n mi9t\\n xiao...</td>\n",
       "      <td>1</td>\n",
       "    </tr>\n",
       "    <tr>\n",
       "      <th>196</th>\n",
       "      <td>cabo de dados e carga rápida blitzwolf 2 in 1 ...</td>\n",
       "      <td>1</td>\n",
       "    </tr>\n",
       "    <tr>\n",
       "      <th>197</th>\n",
       "      <td>rt @canaliodroid  unboxing primeiras impressõe...</td>\n",
       "      <td>1</td>\n",
       "    </tr>\n",
       "    <tr>\n",
       "      <th>198</th>\n",
       "      <td>@erik140000g @apple wtf apple watch pra androi...</td>\n",
       "      <td>1</td>\n",
       "    </tr>\n",
       "    <tr>\n",
       "      <th>199</th>\n",
       "      <td>tenho que comprar meu xiaomi logo  esse povo t...</td>\n",
       "      <td>1</td>\n",
       "    </tr>\n",
       "  </tbody>\n",
       "</table>\n",
       "<p>200 rows × 2 columns</p>\n",
       "</div>"
      ],
      "text/plain": [
       "                                                 Teste  Classificação\n",
       "0    xiaomi é o celular que emite mais radiação só ...              1\n",
       "1    kkkkkkkkkkk os fanboys de xiaomi espumando no ...              1\n",
       "2    dei um tombo no meu celular ontem na plataform...              1\n",
       "3                    @sabrina27114057 compra um xiaomi              1\n",
       "4    @babiie_ @olhardigital acabei de pegar um xiao...              1\n",
       "5    olhem lá se eu usasse a marca do meu telemóvel...              1\n",
       "..                                                 ...            ...\n",
       "194  @xiaomi_br @brunnarangel foi indicada ao emmy ...              1\n",
       "195  🍃🌧️ já é quase sexta feira    \\n\\n mi9t\\n xiao...              1\n",
       "196  cabo de dados e carga rápida blitzwolf 2 in 1 ...              1\n",
       "197  rt @canaliodroid  unboxing primeiras impressõe...              1\n",
       "198  @erik140000g @apple wtf apple watch pra androi...              1\n",
       "199  tenho que comprar meu xiaomi logo  esse povo t...              1\n",
       "\n",
       "[200 rows x 2 columns]"
      ]
     },
     "execution_count": 75,
     "metadata": {},
     "output_type": "execute_result"
    }
   ],
   "source": [
    "classificados = pd.DataFrame(data=dict_teste)\n",
    "classificados"
   ]
  },
  {
   "cell_type": "code",
   "execution_count": 76,
   "metadata": {},
   "outputs": [
    {
     "data": {
      "text/plain": [
       "0.105"
      ]
     },
     "execution_count": 76,
     "metadata": {},
     "output_type": "execute_result"
    }
   ],
   "source": [
    "P_0_nova = teste_classificacao.count(0)/len(teste_classificacao)\n",
    "P_0_nova"
   ]
  },
  {
   "cell_type": "code",
   "execution_count": 77,
   "metadata": {},
   "outputs": [
    {
     "data": {
      "text/plain": [
       "0.895"
      ]
     },
     "execution_count": 77,
     "metadata": {},
     "output_type": "execute_result"
    }
   ],
   "source": [
    "P_1_nova = teste_classificacao.count(1)/len(teste_classificacao)\n",
    "P_1_nova"
   ]
  },
  {
   "cell_type": "markdown",
   "metadata": {},
   "source": [
    "## Comparação"
   ]
  },
  {
   "cell_type": "code",
   "execution_count": 63,
   "metadata": {},
   "outputs": [],
   "source": [
    "comparando= pd.read_excel('pasta1.xlsx')"
   ]
  },
  {
   "cell_type": "code",
   "execution_count": 64,
   "metadata": {},
   "outputs": [],
   "source": [
    "c=[]\n",
    "for n in comparando['Classificação']:\n",
    "    c.append(n)"
   ]
  },
  {
   "cell_type": "code",
   "execution_count": 65,
   "metadata": {},
   "outputs": [],
   "source": [
    "dict_comparando = {}\n",
    "    \n",
    "dict_comparando['Teste'] = lista_teste\n",
    "dict_comparando['Classificação'] = teste_classificacao\n",
    "dict_comparando['Classificação Real']= c"
   ]
  },
  {
   "cell_type": "code",
   "execution_count": 66,
   "metadata": {},
   "outputs": [
    {
     "data": {
      "text/html": [
       "<div>\n",
       "<style scoped>\n",
       "    .dataframe tbody tr th:only-of-type {\n",
       "        vertical-align: middle;\n",
       "    }\n",
       "\n",
       "    .dataframe tbody tr th {\n",
       "        vertical-align: top;\n",
       "    }\n",
       "\n",
       "    .dataframe thead th {\n",
       "        text-align: right;\n",
       "    }\n",
       "</style>\n",
       "<table border=\"1\" class=\"dataframe\">\n",
       "  <thead>\n",
       "    <tr style=\"text-align: right;\">\n",
       "      <th></th>\n",
       "      <th>Teste</th>\n",
       "      <th>Classificação</th>\n",
       "      <th>Classificação Real</th>\n",
       "    </tr>\n",
       "  </thead>\n",
       "  <tbody>\n",
       "    <tr>\n",
       "      <th>0</th>\n",
       "      <td>xiaomi é o celular que emite mais radiação só ...</td>\n",
       "      <td>1</td>\n",
       "      <td>1</td>\n",
       "    </tr>\n",
       "    <tr>\n",
       "      <th>1</th>\n",
       "      <td>kkkkkkkkkkk os fanboys de xiaomi espumando no ...</td>\n",
       "      <td>1</td>\n",
       "      <td>1</td>\n",
       "    </tr>\n",
       "    <tr>\n",
       "      <th>2</th>\n",
       "      <td>dei um tombo no meu celular ontem na plataform...</td>\n",
       "      <td>1</td>\n",
       "      <td>0</td>\n",
       "    </tr>\n",
       "    <tr>\n",
       "      <th>3</th>\n",
       "      <td>@sabrina27114057 compra um xiaomi</td>\n",
       "      <td>1</td>\n",
       "      <td>0</td>\n",
       "    </tr>\n",
       "    <tr>\n",
       "      <th>4</th>\n",
       "      <td>@babiie_ @olhardigital acabei de pegar um xiao...</td>\n",
       "      <td>1</td>\n",
       "      <td>1</td>\n",
       "    </tr>\n",
       "    <tr>\n",
       "      <th>5</th>\n",
       "      <td>olhem lá se eu usasse a marca do meu telemóvel...</td>\n",
       "      <td>1</td>\n",
       "      <td>0</td>\n",
       "    </tr>\n",
       "    <tr>\n",
       "      <th>...</th>\n",
       "      <td>...</td>\n",
       "      <td>...</td>\n",
       "      <td>...</td>\n",
       "    </tr>\n",
       "    <tr>\n",
       "      <th>194</th>\n",
       "      <td>@xiaomi_br @brunnarangel foi indicada ao emmy ...</td>\n",
       "      <td>1</td>\n",
       "      <td>0</td>\n",
       "    </tr>\n",
       "    <tr>\n",
       "      <th>195</th>\n",
       "      <td>🍃🌧️ já é quase sexta feira    \\n\\n mi9t\\n xiao...</td>\n",
       "      <td>1</td>\n",
       "      <td>0</td>\n",
       "    </tr>\n",
       "    <tr>\n",
       "      <th>196</th>\n",
       "      <td>cabo de dados e carga rápida blitzwolf 2 in 1 ...</td>\n",
       "      <td>1</td>\n",
       "      <td>0</td>\n",
       "    </tr>\n",
       "    <tr>\n",
       "      <th>197</th>\n",
       "      <td>rt @canaliodroid  unboxing primeiras impressõe...</td>\n",
       "      <td>1</td>\n",
       "      <td>0</td>\n",
       "    </tr>\n",
       "    <tr>\n",
       "      <th>198</th>\n",
       "      <td>@erik140000g @apple wtf apple watch pra androi...</td>\n",
       "      <td>1</td>\n",
       "      <td>1</td>\n",
       "    </tr>\n",
       "    <tr>\n",
       "      <th>199</th>\n",
       "      <td>tenho que comprar meu xiaomi logo  esse povo t...</td>\n",
       "      <td>1</td>\n",
       "      <td>0</td>\n",
       "    </tr>\n",
       "  </tbody>\n",
       "</table>\n",
       "<p>200 rows × 3 columns</p>\n",
       "</div>"
      ],
      "text/plain": [
       "                                                 Teste  Classificação  \\\n",
       "0    xiaomi é o celular que emite mais radiação só ...              1   \n",
       "1    kkkkkkkkkkk os fanboys de xiaomi espumando no ...              1   \n",
       "2    dei um tombo no meu celular ontem na plataform...              1   \n",
       "3                    @sabrina27114057 compra um xiaomi              1   \n",
       "4    @babiie_ @olhardigital acabei de pegar um xiao...              1   \n",
       "5    olhem lá se eu usasse a marca do meu telemóvel...              1   \n",
       "..                                                 ...            ...   \n",
       "194  @xiaomi_br @brunnarangel foi indicada ao emmy ...              1   \n",
       "195  🍃🌧️ já é quase sexta feira    \\n\\n mi9t\\n xiao...              1   \n",
       "196  cabo de dados e carga rápida blitzwolf 2 in 1 ...              1   \n",
       "197  rt @canaliodroid  unboxing primeiras impressõe...              1   \n",
       "198  @erik140000g @apple wtf apple watch pra androi...              1   \n",
       "199  tenho que comprar meu xiaomi logo  esse povo t...              1   \n",
       "\n",
       "     Classificação Real  \n",
       "0                     1  \n",
       "1                     1  \n",
       "2                     0  \n",
       "3                     0  \n",
       "4                     1  \n",
       "5                     0  \n",
       "..                  ...  \n",
       "194                   0  \n",
       "195                   0  \n",
       "196                   0  \n",
       "197                   0  \n",
       "198                   1  \n",
       "199                   0  \n",
       "\n",
       "[200 rows x 3 columns]"
      ]
     },
     "execution_count": 66,
     "metadata": {},
     "output_type": "execute_result"
    }
   ],
   "source": [
    "comparacacao = pd.DataFrame(data=dict_comparando)\n",
    "comparacacao"
   ]
  },
  {
   "cell_type": "code",
   "execution_count": 67,
   "metadata": {},
   "outputs": [
    {
     "name": "stdout",
     "output_type": "stream",
     "text": [
      "Os resultados obtidos pelo nosso programa concordam em  28.999999999999996 % das vezes com as previsões.\n"
     ]
    }
   ],
   "source": [
    "lista_real= comparacacao['Classificação Real'].tolist()\n",
    "lista_classificador= comparacacao[\"Classificação\"].tolist()\n",
    "contagem=0\n",
    "\n",
    "for i, elemento in enumerate(lista_real):\n",
    "    elemento=int(elemento)\n",
    "    if elemento == lista_classificador[i]:\n",
    "        contagem+=1\n",
    "        \n",
    "probabilidade_de_acertos=contagem/(len(lista_real))\n",
    "print(\"Os resultados obtidos pelo nosso programa concordam em \",probabilidade_de_acertos*100,\"% das vezes com as previsões.\" )"
   ]
  },
  {
   "cell_type": "markdown",
   "metadata": {},
   "source": [
    "## Conclusão"
   ]
  },
  {
   "cell_type": "markdown",
   "metadata": {},
   "source": [
    "**Base de treinamento**"
   ]
  },
  {
   "cell_type": "markdown",
   "metadata": {},
   "source": [
    "Segundo a base de treinamento, pode-se notar que a probabilidade de a opinião pública ser favorável à marca Xiaomi era de, aproximadamente, 80%. Portanto, a de a opinião pública ser desfavorável era de 20%.\n"
   ]
  },
  {
   "cell_type": "markdown",
   "metadata": {},
   "source": [
    "**Base de teste**"
   ]
  },
  {
   "cell_type": "markdown",
   "metadata": {},
   "source": [
    "Nota-se que de acordo com a base de teste a probabilidade de ocorrência de comentários a favor da marca era 11% e a de ocorrências negativas era de 89%. Todavia, percebe-se que esse não era o esperado com base no banco de dados de tweets que foi analisado para treinamento.\n",
    "\n",
    "Diante disso, pode-se dizer que esse fator pode ter acontecido por uma falta de refinamento durante a análise dos tweets, uma vez que o programa desenvolvido acima não é capaz de identificar frases que possuem um viés sarcástico ou mesmo frases que possuem um duplo sentido, não podendo, assim, ser identificado qual o sentimento que o autor da frase queria trasmitir. Além disso, pode-se citar também as marcações com o \"@\", os emojis que não foram considerados durante o treinamento do programa e o surgimento de uma nova frequência relativa das palavras inéditas que apareceram no teste - calculada como a menor frequência relativa dentro no grupo no qual ela está sendo analisada, dividida por dois -, que implicará na diminuição da probabilidade do tweet que a contém estar nesse grupo. E, caso analise-se um tweet que tem mais palavras inéditas em um grupo do que em outro, haverá também uma considerável diferença entre as probabilidades.\n",
    "\n",
    "Nesse contexto, é válido ressaltar que esse defeito no classificador ocorreu tendo em vista que as probabilidades condicionais de cada palavra no tweet são independentes entre sim. \n",
    "\n",
    "Portanto, para aperfeiçoamento desse classificador, além do treinamento de mais tweets para evitar o aparecimento frequente de palavras inéditas,tais pontos citados acima deveriam ser levados em consideração. "
   ]
  }
 ],
 "metadata": {
  "kernelspec": {
   "display_name": "Python 3",
   "language": "python",
   "name": "python3"
  },
  "language_info": {
   "codemirror_mode": {
    "name": "ipython",
    "version": 3
   },
   "file_extension": ".py",
   "mimetype": "text/x-python",
   "name": "python",
   "nbconvert_exporter": "python",
   "pygments_lexer": "ipython3",
   "version": "3.7.1"
  }
 },
 "nbformat": 4,
 "nbformat_minor": 2
}
